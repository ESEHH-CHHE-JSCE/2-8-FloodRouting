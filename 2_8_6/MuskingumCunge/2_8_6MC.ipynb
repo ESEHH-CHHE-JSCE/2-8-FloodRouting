{
 "cells": [
  {
   "cell_type": "markdown",
   "id": "b49d2bf1-c9f8-4e80-8a02-f301204a6537",
   "metadata": {},
   "source": [
    "# 【例題2.8】\n",
    "\n",
    "## (6) 洪水追跡計算\n",
    "### ④Muskingum-Cunge法による洪水追跡計算プログラム\n",
    "\n",
    "- Muskingum-Cunge法による洪水追跡計算を行います．\n",
    "\n",
    "- 計算条件は，エクセルファイル”MCungeInput.xlsx”をご確認ください．\n",
    "    - 計算条件の設定は，\"計算条件\"のシートで行います．\n",
    "    - 上流端流量の設定は，\"上流端流量の経時変化\"のシートで行います．\n",
    "    - 上流端流量ハイドログラフは，プログラム\"Discharge/discharge.py\"で作成します．\n",
    "\n",
    "- 流量の経時変化が，\"Muskigum.pdf\"に出力されます．\n"
   ]
  },
  {
   "cell_type": "code",
   "execution_count": 1,
   "id": "2091f183-d564-4bc1-ae4f-fecdda4f8937",
   "metadata": {},
   "outputs": [],
   "source": [
    "'''Muskingum Cunge法により洪水追跡を行うプログラム'''\n",
    "# !/usr/bin/env python3\n",
    "# -*- coding: utf-8 -*-\n",
    "import matplotlib.pyplot as plt\n",
    "import numpy as np\n",
    "import pandas as pd\n",
    "# 定数の設定\n",
    "INPUT_FILE_NAME = \"MCungeInput.xlsx\"\n",
    "SHEET1_NAME = \"計算条件\"\n",
    "SHEET2_NAME = \"上流端流量の経時変化\"\n",
    "FONTSIZE_XYLABEL = 14\n",
    "Q_MIN = 0.0\n",
    "Q_MAX = 2100."
   ]
  },
  {
   "cell_type": "markdown",
   "id": "87ddeed8-3ae7-44f1-8589-2c23a595606a",
   "metadata": {},
   "source": [
    "## Muskingum-Cunge法のクラス\n",
    "$\n",
    "Q_{i+1}^{t+\\Delta t} = C_1 Q_i^{t} + C_2 Q_i^{t+\\Delta t} + C_3 Q_{i+1}^{t}\n",
    "$\n",
    "\n",
    "$C_1 = \\frac{KX+0.5\\Delta t}{K(1-X)+0.5\\Delta t}$，\n",
    "$C_2 = \\frac{0.5\\Delta t-KX}{K(1-X)+0.5\\Delta t}$，\n",
    "$C_3 = \\frac{K(1-X)-0.5\\Delta t}{K(1-X)+0.5\\Delta t}$\n",
    "\n",
    "$C_1+C_2+C_3 = 1$\n",
    "\n",
    "$K=\\frac{\\Delta x}{\\lambda}$，$X = 0.5-\\frac{\\mu}{\\lambda \\Delta x} (0 \\le X \\le 0.5)$\n"
   ]
  },
  {
   "cell_type": "code",
   "execution_count": 2,
   "id": "fdf11f25-0c38-4117-9706-ddcbfc0dc3ca",
   "metadata": {},
   "outputs": [],
   "source": [
    "class Muskingum:\n",
    "    \"\"\"Muskingum-Cunge法のクラス\"\"\"\n",
    "    def __init__(self):\n",
    "        self.data = pd.read_excel(INPUT_FILE_NAME, sheet_name=None)\n",
    "        # 計算条件の読み込み\n",
    "        print(self.data[SHEET1_NAME])\n",
    "        __colName = self.data[SHEET1_NAME].columns\n",
    "        self.K = self.data[SHEET1_NAME][__colName[1]][0]\n",
    "        self.X = self.data[SHEET1_NAME][__colName[1]][1]\n",
    "        self.dt = self.data[SHEET1_NAME][__colName[1]][2]\n",
    "        self.xEnd = self.data[SHEET1_NAME][__colName[1]][3]\n",
    "        self.dx = self.data[SHEET1_NAME][__colName[1]][4]\n",
    "        # 上流端流量の読み込み\n",
    "        print(self.data[SHEET2_NAME])\n",
    "        __colName = self.data[SHEET2_NAME].columns\n",
    "        self.tb = np.array(self.data[SHEET2_NAME][__colName[0]])  # 時刻\n",
    "        self.Qb = np.array(self.data[SHEET2_NAME][__colName[1]])  # 流量\n",
    "        # dt時間に応じたtbとQb\n",
    "        __tmpdT = self.dt/3600.\n",
    "        self.Q = self.Qb[self.tb % __tmpdT == 0.0]\n",
    "        self.t = self.tb[self.tb % __tmpdT == 0.0]\n",
    "\n",
    "    # 流量を計算する関数\n",
    "    def __calcQ(self, _QI):\n",
    "        _C1 = (.5*self.dt+self.K*self.X)/(self.K*(1.-self.X)+.5*self.dt)\n",
    "        _C2 = (.5*self.dt-self.K*self.X)/(self.K*(1.-self.X)+.5*self.dt)\n",
    "        _C3 = (self.K*(1.-self.X)-.5*self.dt)/(self.K*(1.-self.X)+.5*self.dt)\n",
    "        _QO = np.copy(_QI)\n",
    "        for i in range(len(_QO)-1):\n",
    "            _QO[i+1] = _C1*_QI[i]+_C2*_QI[i+1]+_C3*_QO[i]\n",
    "        return(_QO)\n",
    "\n",
    "    def calcProc(self):\n",
    "        \"\"\"計算手順\"\"\"\n",
    "        __N = int(self.xEnd/self.dx)\n",
    "        __Q = []\n",
    "        __x = []\n",
    "        __Q.append(self.Q)\n",
    "        for __i in range(__N):\n",
    "            __x.append(self.dx*__i)\n",
    "            __QO = self.__calcQ(__Q[__i])\n",
    "            __Q.append(__QO)\n",
    "        self.resQ = np.array(__Q)\n",
    "        self.x = np.array(__x)\n",
    "\n",
    "    # グラフの出力\n",
    "    def plot(self, _setDis):\n",
    "        plt.figure(figsize=(5., 2.5))\n",
    "        plt.xlim(np.min(self.t), 48)\n",
    "        plt.grid()\n",
    "        _setDis = np.array(_setDis)\n",
    "\n",
    "        for __x in _setDis:\n",
    "            __i = np.where(self.x == __x)[0][0]\n",
    "            plt.plot(self.t, self.resQ[__i], '-', label=str(__x)+\"km\")\n",
    "        plt.legend(fontsize=FONTSIZE_XYLABEL, fancybox=False, framealpha=1)\n",
    "        plt.ylim(Q_MIN, Q_MAX)\n",
    "        plt.xlabel(\"$t$ (hr)\", fontsize=FONTSIZE_XYLABEL)\n",
    "        plt.ylabel(\"$Q$ (m$^3/s$)\", fontsize=FONTSIZE_XYLABEL)\n",
    "        plt.savefig(\"muskingum.pdf\", transparent=True, bbox_inches='tight')"
   ]
  },
  {
   "cell_type": "markdown",
   "id": "978d3e00-c732-42f8-8918-731c2d6f8ca2",
   "metadata": {},
   "source": [
    "# main関数"
   ]
  },
  {
   "cell_type": "code",
   "execution_count": 3,
   "id": "eaaaf845-2f1f-4344-9927-b4316d1d5d21",
   "metadata": {},
   "outputs": [
    {
     "name": "stdout",
     "output_type": "stream",
     "text": [
      "           変数名        数値\n",
      "0            K  2887.200\n",
      "1            X     0.241\n",
      "2  時間の刻み幅dT(s)  7200.000\n",
      "3     計算区間(km)   100.000\n",
      "4    空間の刻幅(km)    10.000\n",
      "         t(hr)  Q(m3/s)\n",
      "0     0.000000    200.0\n",
      "1     0.166667    200.0\n",
      "2     0.333333    200.0\n",
      "3     0.500000    200.0\n",
      "4     0.666667    200.0\n",
      "..         ...      ...\n",
      "296  49.333333    200.0\n",
      "297  49.500000    200.0\n",
      "298  49.666667    200.0\n",
      "299  49.833333    200.0\n",
      "300  50.000000    200.0\n",
      "\n",
      "[301 rows x 2 columns]\n"
     ]
    },
    {
     "data": {
      "image/png": "[encoded data removed]",
      "text/plain": [
       "<Figure size 360x180 with 1 Axes>"
      ]
     },
     "metadata": {
      "needs_background": "light"
     },
     "output_type": "display_data"
    }
   ],
   "source": [
    "if __name__ == \"__main__\":\n",
    "    \"\"\"main関数\"\"\"\n",
    "    muskingum = Muskingum()\n",
    "    muskingum.calcProc()\n",
    "    __setKP = [0.0, 40., 80.]\n",
    "    muskingum.plot(__setKP)"
   ]
  },
  {
   "cell_type": "code",
   "execution_count": null,
   "id": "c151feb5-e56a-47f8-a4c9-ca387b2cdd85",
   "metadata": {},
   "outputs": [],
   "source": []
  }
 ],
 "metadata": {
  "kernelspec": {
   "display_name": "Python 3 (ipykernel)",
   "language": "python",
   "name": "python3"
  },
  "language_info": {
   "codemirror_mode": {
    "name": "ipython",
    "version": 3
   },
   "file_extension": ".py",
   "mimetype": "text/x-python",
   "name": "python",
   "nbconvert_exporter": "python",
   "pygments_lexer": "ipython3",
   "version": "3.9.10"
  }
 },
 "nbformat": 4,
 "nbformat_minor": 5
}
