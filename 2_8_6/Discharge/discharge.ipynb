{
 "cells": [
  {
   "cell_type": "markdown",
   "id": "9091d7d2-707a-4f9d-aabe-1f20796806cb",
   "metadata": {},
   "source": [
    "# 【例題2.8】\n",
    "\n",
    "## (6) 洪水追跡計算\n",
    "### 上流端流量ハイドログラフを作成\n",
    "\n",
    "問題中の上流端の流量ハイドログラフを計算するプログラムです．\n",
    "\n",
    "- 計算条件は，エクセルファイル”DischargeCondition.xlsx”をご確認ください．\n",
    "\n",
    "- 流量の経時変化のデータ(\"Dischage.xlsx\")とグラフ(\"tQ_2_8_2.pdf\")が作成されます．\n"
   ]
  },
  {
   "cell_type": "code",
   "execution_count": 1,
   "id": "0b54bde0-40c9-4a32-b0c7-587d6412ed0a",
   "metadata": {},
   "outputs": [],
   "source": [
    "\"\"\"上流端の流量ハイドログラフを以下の式から計算し，グラフとデータを作成するプログラム.\"\"\"\n",
    "# !/usr/bin/env python3\n",
    "# -*- coding: utf-8 -*-\n",
    "import numpy as np\n",
    "import matplotlib.pyplot as plt\n",
    "import pandas as pd\n",
    "\n",
    "# 定数の設定\n",
    "GRAVITY_ACCELERATION: float = 9.81  # 重力加速度\n",
    "INPUT_FILE_NAME = \"DischargeCondition.xlsx\"\n",
    "OUTPUT_FILE_NAME = \"Dischage.xlsx\"\n",
    "GRAPH_FILE_NAME = \"tQ_2_8_2.pdf\"\n",
    "SHEET1_NAME = \"計算条件\""
   ]
  },
  {
   "cell_type": "markdown",
   "id": "f56696d9-d26f-4614-9622-0f66a57b45bf",
   "metadata": {},
   "source": [
    "#### 上流端ハイドログラフを作成するクラス\n",
    "\n",
    "- 上流端流量ハイドログラフ：$Q_0(t) = Q_b+(Q_p-Q_b)\\left\\{\\frac{t}{t_p}\\exp\\left(1-\\frac{t}{t_p}\\right)\\right\\}^{c}$"
   ]
  },
  {
   "cell_type": "code",
   "execution_count": 2,
   "id": "c62572cc-ed31-4ded-b5b3-2a122c3f6710",
   "metadata": {},
   "outputs": [],
   "source": [
    "class SetUpstreamDischarge:\n",
    "    \"\"\"上流端ハイドログラフを作成するクラス.\"\"\"\n",
    "\n",
    "    def __init__(self):\n",
    "        \"\"\"データの読み込み.\"\"\"\n",
    "        self.data = pd.read_excel(INPUT_FILE_NAME, sheet_name=SHEET1_NAME)\n",
    "        print(self.data)\n",
    "        self.Qb = self.data[self.data.columns[1]][0]\n",
    "        self.Qp = self.data[self.data.columns[1]][1]\n",
    "        self.tp = self.data[self.data.columns[1]][2]\n",
    "        self.te = self.data[self.data.columns[1]][3]\n",
    "        self.C = self.data[self.data.columns[1]][4]\n",
    "\n",
    "    # 流量を計算\n",
    "    def __calcHydro(self):\n",
    "        # 時間間隔とQの計算．時間間隔は10分とする\n",
    "        self.t = np.linspace(0.0, self.te, int(self.te*3600/600)+1)\n",
    "        self.Q = self.Qb+(self.Qp-self.Qb)*(self.t/self.tp *\n",
    "                                            np.exp(1.-self.t/self.tp))**self.C\n",
    "\n",
    "    # ファイルへの出力\n",
    "    def __writeFile(self):\n",
    "        # numpyをpandas形式に変換\n",
    "        df = pd.DataFrame(self.t, columns=['t(hr)'])\n",
    "        df['Q(m3/s)'] = self.Q\n",
    "        # エクセルファイルへの書き出し\n",
    "        df.to_excel(OUTPUT_FILE_NAME, index=False)\n",
    "\n",
    "    def graph(self):\n",
    "        \"\"\"グラフ作成.\"\"\"\n",
    "        plt.figure(figsize=(5, 2.5))\n",
    "        plt.plot(self.t, self.Q, color='black')\n",
    "        plt.xlabel('$t$(hr)')\n",
    "        plt.ylabel('$Q$(m$^s$/s)')\n",
    "        plt.grid()\n",
    "        plt.xlim(np.min(self.t), np.max(self.t))\n",
    "        plt.ylim(0.0,)\n",
    "        plt.savefig(GRAPH_FILE_NAME, transparent=True, bbox_inches='tight')\n",
    "        plt.show()\n",
    "\n",
    "    def getHydroData(self):\n",
    "        \"\"\"流量のデータを作成.\"\"\"\n",
    "        self.__calcHydro()\n",
    "        self.__writeFile()"
   ]
  },
  {
   "cell_type": "markdown",
   "id": "e7cdf73e-4b37-413c-b156-c36235dfe3b5",
   "metadata": {},
   "source": [
    "#### main関数"
   ]
  },
  {
   "cell_type": "code",
   "execution_count": 3,
   "id": "5dc6c866-a02f-4eb5-ae13-04c5faed7bfe",
   "metadata": {},
   "outputs": [
    {
     "name": "stdout",
     "output_type": "stream",
     "text": [
      "              変数名    数値\n",
      "0  Qb(m3/s)：ベース流量   200\n",
      "1  Qp(m3/s)：ピーク流量  2000\n",
      "2  tp(hr)：ピーク発生時間    12\n",
      "3   te(hr)：計算終了時間    50\n",
      "4            C：係数    20\n"
     ]
    },
    {
     "data": {
      "image/png": "[encoded data removed]",
      "text/plain": [
       "<Figure size 500x250 with 1 Axes>"
      ]
     },
     "metadata": {},
     "output_type": "display_data"
    }
   ],
   "source": [
    "if __name__ == \"__main__\":\n",
    "    \"\"\"main関数.\"\"\"\n",
    "    disHydro = SetUpstreamDischarge()  # データの読み込み\n",
    "    disHydro.getHydroData()  # ハイドログラフの計算とファイルへの出力\n",
    "    disHydro.graph()  # グラフの作成\n",
    "    del disHydro"
   ]
  }
 ],
 "metadata": {
  "kernelspec": {
   "display_name": "Python 3 (ipykernel)",
   "language": "python",
   "name": "python3"
  },
  "language_info": {
   "codemirror_mode": {
    "name": "ipython",
    "version": 3
   },
   "file_extension": ".py",
   "mimetype": "text/x-python",
   "name": "python",
   "nbconvert_exporter": "python",
   "pygments_lexer": "ipython3",
   "version": "3.9.13"
  }
 },
 "nbformat": 4,
 "nbformat_minor": 5
}
